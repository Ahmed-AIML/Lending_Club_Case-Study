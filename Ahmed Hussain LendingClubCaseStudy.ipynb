{
 "cells": [
  {
   "cell_type": "markdown",
   "id": "d727c8d4",
   "metadata": {},
   "source": [
    "# Introduction"
   ]
  },
  {
   "cell_type": "markdown",
   "id": "54863b77",
   "metadata": {},
   "source": [
    "## About client - lending Club\n",
    "\n",
    "Finance company which is specialized in lending various types of loans to urban customers. It is a marketplace for borrowers seeking personal loans and  investors looking to lend money and make a return.  "
   ]
  },
  {
   "cell_type": "markdown",
   "id": "421eeeba",
   "metadata": {},
   "source": [
    "#### Two types of risks associated with the bank’s decision while making  a decision for loan approval based on the applicant’s profile. \n",
    "\n",
    "If the applicant is likely to repay the loan, then not approving the loan results in a loss of business to the company\n",
    "\n",
    "If the applicant is not likely to repay the loan, i.e. he/she is likely to default, then approving the loan may lead to a financial loss for the company\n"
   ]
  },
  {
   "cell_type": "markdown",
   "id": "db4edc27",
   "metadata": {},
   "source": [
    "### Business objectives:\n",
    "\n",
    "To understand the various features that contribute toward default.\n",
    "\n",
    "To minimise the risk of losing money while lending to customers\n",
    "\n",
    "To understand the influence the tendency of default based on  consumer attributes and loan attributes with EDA(driving factors)\n"
   ]
  },
  {
   "cell_type": "markdown",
   "id": "68bf268e",
   "metadata": {},
   "source": [
    "### Importing Libraries"
   ]
  },
  {
   "cell_type": "code",
   "execution_count": 2,
   "id": "fd2c8ab3",
   "metadata": {},
   "outputs": [],
   "source": [
    "import pandas as pd\n",
    "import numpy as np\n",
    "import seaborn as sns\n",
    "import matplotlib.pyplot as plt\n",
    "from sklearn.model_selection import train_test_split\n",
    "from scipy.stats import kurtosis,skew\n",
    "from sklearn.impute import SimpleImputer"
   ]
  },
  {
   "cell_type": "code",
   "execution_count": 1,
   "id": "6f2ea119",
   "metadata": {},
   "outputs": [
    {
     "ename": "NameError",
     "evalue": "name 'pd' is not defined",
     "output_type": "error",
     "traceback": [
      "\u001b[1;31m---------------------------------------------------------------------------\u001b[0m",
      "\u001b[1;31mNameError\u001b[0m                                 Traceback (most recent call last)",
      "Input \u001b[1;32mIn [1]\u001b[0m, in \u001b[0;36m<cell line: 2>\u001b[1;34m()\u001b[0m\n\u001b[0;32m      1\u001b[0m \u001b[38;5;66;03m# Reading the csv file \u001b[39;00m\n\u001b[1;32m----> 2\u001b[0m df \u001b[38;5;241m=\u001b[39m \u001b[43mpd\u001b[49m\u001b[38;5;241m.\u001b[39mread_csv(\u001b[38;5;124m\"\u001b[39m\u001b[38;5;124mloan.csv\u001b[39m\u001b[38;5;124m\"\u001b[39m) \n\u001b[0;32m      3\u001b[0m df\u001b[38;5;241m.\u001b[39mhead()\n",
      "\u001b[1;31mNameError\u001b[0m: name 'pd' is not defined"
     ]
    }
   ],
   "source": [
    "# Reading the csv file \n",
    "df = pd.read_csv(\"loan.csv\") \n",
    "df.head()"
   ]
  },
  {
   "cell_type": "code",
   "execution_count": 5,
   "id": "49c888eb",
   "metadata": {},
   "outputs": [
    {
     "data": {
      "text/plain": [
       "(39717, 111)"
      ]
     },
     "execution_count": 5,
     "metadata": {},
     "output_type": "execute_result"
    }
   ],
   "source": [
    "df.shape "
   ]
  },
  {
   "cell_type": "markdown",
   "id": "f5e26743",
   "metadata": {},
   "source": [
    "#### There are 39717 records and 111 attributes"
   ]
  },
  {
   "cell_type": "markdown",
   "id": "6ff537fb",
   "metadata": {},
   "source": [
    "## identifying the data type of each column"
   ]
  },
  {
   "cell_type": "code",
   "execution_count": 6,
   "id": "c827a551",
   "metadata": {},
   "outputs": [
    {
     "data": {
      "text/plain": [
       "float64    74\n",
       "object     24\n",
       "int64      13\n",
       "Name: type, dtype: int64"
      ]
     },
     "execution_count": 6,
     "metadata": {},
     "output_type": "execute_result"
    }
   ],
   "source": [
    "df_types=pd.DataFrame(df.dtypes,columns=['type'])\n",
    "df_types['type'].value_counts() #column data type count"
   ]
  },
  {
   "cell_type": "markdown",
   "id": "c5721367",
   "metadata": {},
   "source": [
    "## Data Pre-processing: Finding out NaN values"
   ]
  },
  {
   "cell_type": "code",
   "execution_count": 7,
   "id": "da0c0e56",
   "metadata": {},
   "outputs": [
    {
     "data": {
      "text/plain": [
       "id                            False\n",
       "member_id                     False\n",
       "loan_amnt                     False\n",
       "funded_amnt                   False\n",
       "funded_amnt_inv               False\n",
       "                              ...  \n",
       "tax_liens                      True\n",
       "tot_hi_cred_lim                True\n",
       "total_bal_ex_mort              True\n",
       "total_bc_limit                 True\n",
       "total_il_high_credit_limit     True\n",
       "Length: 111, dtype: bool"
      ]
     },
     "execution_count": 7,
     "metadata": {},
     "output_type": "execute_result"
    }
   ],
   "source": [
    "df.isna().any()"
   ]
  },
  {
   "cell_type": "markdown",
   "id": "0761b28d",
   "metadata": {},
   "source": [
    "## Identifying the columns  containing numerical variables and charecter variables\n"
   ]
  },
  {
   "cell_type": "code",
   "execution_count": 8,
   "id": "3364890e",
   "metadata": {},
   "outputs": [
    {
     "name": "stderr",
     "output_type": "stream",
     "text": [
      "C:\\Users\\ahmed\\AppData\\Local\\Temp\\ipykernel_37648\\386575355.py:1: FutureWarning: Dropping of nuisance columns in DataFrame reductions (with 'numeric_only=None') is deprecated; in a future version this will raise TypeError.  Select only valid columns before calling the reduction.\n",
      "  numerical_variables=df.sample(100).mean().index\n"
     ]
    },
    {
     "data": {
      "text/plain": [
       "Index(['id', 'member_id', 'loan_amnt', 'funded_amnt', 'funded_amnt_inv',\n",
       "       'installment', 'annual_inc', 'dti', 'delinq_2yrs', 'inq_last_6mths',\n",
       "       'mths_since_last_delinq', 'mths_since_last_record', 'open_acc',\n",
       "       'pub_rec', 'revol_bal', 'total_acc', 'out_prncp', 'out_prncp_inv',\n",
       "       'total_pymnt', 'total_pymnt_inv', 'total_rec_prncp', 'total_rec_int',\n",
       "       'total_rec_late_fee', 'recoveries', 'collection_recovery_fee',\n",
       "       'last_pymnt_amnt', 'collections_12_mths_ex_med',\n",
       "       'mths_since_last_major_derog', 'policy_code', 'annual_inc_joint',\n",
       "       'dti_joint', 'verification_status_joint', 'acc_now_delinq',\n",
       "       'tot_coll_amt', 'tot_cur_bal', 'open_acc_6m', 'open_il_6m',\n",
       "       'open_il_12m', 'open_il_24m', 'mths_since_rcnt_il', 'total_bal_il',\n",
       "       'il_util', 'open_rv_12m', 'open_rv_24m', 'max_bal_bc', 'all_util',\n",
       "       'total_rev_hi_lim', 'inq_fi', 'total_cu_tl', 'inq_last_12m',\n",
       "       'acc_open_past_24mths', 'avg_cur_bal', 'bc_open_to_buy', 'bc_util',\n",
       "       'chargeoff_within_12_mths', 'delinq_amnt', 'mo_sin_old_il_acct',\n",
       "       'mo_sin_old_rev_tl_op', 'mo_sin_rcnt_rev_tl_op', 'mo_sin_rcnt_tl',\n",
       "       'mort_acc', 'mths_since_recent_bc', 'mths_since_recent_bc_dlq',\n",
       "       'mths_since_recent_inq', 'mths_since_recent_revol_delinq',\n",
       "       'num_accts_ever_120_pd', 'num_actv_bc_tl', 'num_actv_rev_tl',\n",
       "       'num_bc_sats', 'num_bc_tl', 'num_il_tl', 'num_op_rev_tl',\n",
       "       'num_rev_accts', 'num_rev_tl_bal_gt_0', 'num_sats', 'num_tl_120dpd_2m',\n",
       "       'num_tl_30dpd', 'num_tl_90g_dpd_24m', 'num_tl_op_past_12m',\n",
       "       'pct_tl_nvr_dlq', 'percent_bc_gt_75', 'pub_rec_bankruptcies',\n",
       "       'tax_liens', 'tot_hi_cred_lim', 'total_bal_ex_mort', 'total_bc_limit',\n",
       "       'total_il_high_credit_limit'],\n",
       "      dtype='object')"
      ]
     },
     "execution_count": 8,
     "metadata": {},
     "output_type": "execute_result"
    }
   ],
   "source": [
    "numerical_variables=df.sample(100).mean().index\n",
    "numerical_variables"
   ]
  },
  {
   "cell_type": "code",
   "execution_count": 9,
   "id": "44ada55d",
   "metadata": {},
   "outputs": [
    {
     "data": {
      "text/plain": [
       "['term',\n",
       " 'int_rate',\n",
       " 'grade',\n",
       " 'sub_grade',\n",
       " 'emp_title',\n",
       " 'emp_length',\n",
       " 'home_ownership',\n",
       " 'verification_status',\n",
       " 'issue_d',\n",
       " 'loan_status',\n",
       " 'pymnt_plan',\n",
       " 'url',\n",
       " 'desc',\n",
       " 'purpose',\n",
       " 'title',\n",
       " 'zip_code',\n",
       " 'addr_state',\n",
       " 'earliest_cr_line',\n",
       " 'revol_util',\n",
       " 'initial_list_status',\n",
       " 'last_pymnt_d',\n",
       " 'next_pymnt_d',\n",
       " 'last_credit_pull_d',\n",
       " 'application_type']"
      ]
     },
     "execution_count": 9,
     "metadata": {},
     "output_type": "execute_result"
    }
   ],
   "source": [
    "character_variables=[]\n",
    "for i in df.columns:\n",
    "    if i not in numerical_variables:\n",
    "        character_variables.append(i)\n",
    "character_variables"
   ]
  },
  {
   "cell_type": "code",
   "execution_count": 10,
   "id": "e8bb7c23",
   "metadata": {},
   "outputs": [
    {
     "data": {
      "text/plain": [
       "(87, 24)"
      ]
     },
     "execution_count": 10,
     "metadata": {},
     "output_type": "execute_result"
    }
   ],
   "source": [
    "len(numerical_variables),len(character_variables)"
   ]
  },
  {
   "cell_type": "markdown",
   "id": "01f445df",
   "metadata": {},
   "source": [
    "### There are 87 coulumns with numerical variables and 24 colums with charecter values"
   ]
  },
  {
   "cell_type": "markdown",
   "id": "5eb9df1d",
   "metadata": {},
   "source": [
    "### Statistical Description of dataset"
   ]
  },
  {
   "cell_type": "code",
   "execution_count": 11,
   "id": "2f3e5ca2",
   "metadata": {},
   "outputs": [
    {
     "data": {
      "text/html": [
       "<div>\n",
       "<style scoped>\n",
       "    .dataframe tbody tr th:only-of-type {\n",
       "        vertical-align: middle;\n",
       "    }\n",
       "\n",
       "    .dataframe tbody tr th {\n",
       "        vertical-align: top;\n",
       "    }\n",
       "\n",
       "    .dataframe thead th {\n",
       "        text-align: right;\n",
       "    }\n",
       "</style>\n",
       "<table border=\"1\" class=\"dataframe\">\n",
       "  <thead>\n",
       "    <tr style=\"text-align: right;\">\n",
       "      <th></th>\n",
       "      <th>id</th>\n",
       "      <th>member_id</th>\n",
       "      <th>loan_amnt</th>\n",
       "      <th>funded_amnt</th>\n",
       "      <th>funded_amnt_inv</th>\n",
       "      <th>installment</th>\n",
       "      <th>annual_inc</th>\n",
       "      <th>dti</th>\n",
       "      <th>delinq_2yrs</th>\n",
       "      <th>inq_last_6mths</th>\n",
       "      <th>...</th>\n",
       "      <th>num_tl_90g_dpd_24m</th>\n",
       "      <th>num_tl_op_past_12m</th>\n",
       "      <th>pct_tl_nvr_dlq</th>\n",
       "      <th>percent_bc_gt_75</th>\n",
       "      <th>pub_rec_bankruptcies</th>\n",
       "      <th>tax_liens</th>\n",
       "      <th>tot_hi_cred_lim</th>\n",
       "      <th>total_bal_ex_mort</th>\n",
       "      <th>total_bc_limit</th>\n",
       "      <th>total_il_high_credit_limit</th>\n",
       "    </tr>\n",
       "  </thead>\n",
       "  <tbody>\n",
       "    <tr>\n",
       "      <th>count</th>\n",
       "      <td>3.971700e+04</td>\n",
       "      <td>3.971700e+04</td>\n",
       "      <td>39717.000000</td>\n",
       "      <td>39717.000000</td>\n",
       "      <td>39717.000000</td>\n",
       "      <td>39717.000000</td>\n",
       "      <td>3.971700e+04</td>\n",
       "      <td>39717.000000</td>\n",
       "      <td>39717.000000</td>\n",
       "      <td>39717.000000</td>\n",
       "      <td>...</td>\n",
       "      <td>0.0</td>\n",
       "      <td>0.0</td>\n",
       "      <td>0.0</td>\n",
       "      <td>0.0</td>\n",
       "      <td>39020.000000</td>\n",
       "      <td>39678.0</td>\n",
       "      <td>0.0</td>\n",
       "      <td>0.0</td>\n",
       "      <td>0.0</td>\n",
       "      <td>0.0</td>\n",
       "    </tr>\n",
       "    <tr>\n",
       "      <th>mean</th>\n",
       "      <td>6.831319e+05</td>\n",
       "      <td>8.504636e+05</td>\n",
       "      <td>11219.443815</td>\n",
       "      <td>10947.713196</td>\n",
       "      <td>10397.448868</td>\n",
       "      <td>324.561922</td>\n",
       "      <td>6.896893e+04</td>\n",
       "      <td>13.315130</td>\n",
       "      <td>0.146512</td>\n",
       "      <td>0.869200</td>\n",
       "      <td>...</td>\n",
       "      <td>NaN</td>\n",
       "      <td>NaN</td>\n",
       "      <td>NaN</td>\n",
       "      <td>NaN</td>\n",
       "      <td>0.043260</td>\n",
       "      <td>0.0</td>\n",
       "      <td>NaN</td>\n",
       "      <td>NaN</td>\n",
       "      <td>NaN</td>\n",
       "      <td>NaN</td>\n",
       "    </tr>\n",
       "    <tr>\n",
       "      <th>std</th>\n",
       "      <td>2.106941e+05</td>\n",
       "      <td>2.656783e+05</td>\n",
       "      <td>7456.670694</td>\n",
       "      <td>7187.238670</td>\n",
       "      <td>7128.450439</td>\n",
       "      <td>208.874874</td>\n",
       "      <td>6.379377e+04</td>\n",
       "      <td>6.678594</td>\n",
       "      <td>0.491812</td>\n",
       "      <td>1.070219</td>\n",
       "      <td>...</td>\n",
       "      <td>NaN</td>\n",
       "      <td>NaN</td>\n",
       "      <td>NaN</td>\n",
       "      <td>NaN</td>\n",
       "      <td>0.204324</td>\n",
       "      <td>0.0</td>\n",
       "      <td>NaN</td>\n",
       "      <td>NaN</td>\n",
       "      <td>NaN</td>\n",
       "      <td>NaN</td>\n",
       "    </tr>\n",
       "    <tr>\n",
       "      <th>min</th>\n",
       "      <td>5.473400e+04</td>\n",
       "      <td>7.069900e+04</td>\n",
       "      <td>500.000000</td>\n",
       "      <td>500.000000</td>\n",
       "      <td>0.000000</td>\n",
       "      <td>15.690000</td>\n",
       "      <td>4.000000e+03</td>\n",
       "      <td>0.000000</td>\n",
       "      <td>0.000000</td>\n",
       "      <td>0.000000</td>\n",
       "      <td>...</td>\n",
       "      <td>NaN</td>\n",
       "      <td>NaN</td>\n",
       "      <td>NaN</td>\n",
       "      <td>NaN</td>\n",
       "      <td>0.000000</td>\n",
       "      <td>0.0</td>\n",
       "      <td>NaN</td>\n",
       "      <td>NaN</td>\n",
       "      <td>NaN</td>\n",
       "      <td>NaN</td>\n",
       "    </tr>\n",
       "    <tr>\n",
       "      <th>25%</th>\n",
       "      <td>5.162210e+05</td>\n",
       "      <td>6.667800e+05</td>\n",
       "      <td>5500.000000</td>\n",
       "      <td>5400.000000</td>\n",
       "      <td>5000.000000</td>\n",
       "      <td>167.020000</td>\n",
       "      <td>4.040400e+04</td>\n",
       "      <td>8.170000</td>\n",
       "      <td>0.000000</td>\n",
       "      <td>0.000000</td>\n",
       "      <td>...</td>\n",
       "      <td>NaN</td>\n",
       "      <td>NaN</td>\n",
       "      <td>NaN</td>\n",
       "      <td>NaN</td>\n",
       "      <td>0.000000</td>\n",
       "      <td>0.0</td>\n",
       "      <td>NaN</td>\n",
       "      <td>NaN</td>\n",
       "      <td>NaN</td>\n",
       "      <td>NaN</td>\n",
       "    </tr>\n",
       "    <tr>\n",
       "      <th>50%</th>\n",
       "      <td>6.656650e+05</td>\n",
       "      <td>8.508120e+05</td>\n",
       "      <td>10000.000000</td>\n",
       "      <td>9600.000000</td>\n",
       "      <td>8975.000000</td>\n",
       "      <td>280.220000</td>\n",
       "      <td>5.900000e+04</td>\n",
       "      <td>13.400000</td>\n",
       "      <td>0.000000</td>\n",
       "      <td>1.000000</td>\n",
       "      <td>...</td>\n",
       "      <td>NaN</td>\n",
       "      <td>NaN</td>\n",
       "      <td>NaN</td>\n",
       "      <td>NaN</td>\n",
       "      <td>0.000000</td>\n",
       "      <td>0.0</td>\n",
       "      <td>NaN</td>\n",
       "      <td>NaN</td>\n",
       "      <td>NaN</td>\n",
       "      <td>NaN</td>\n",
       "    </tr>\n",
       "    <tr>\n",
       "      <th>75%</th>\n",
       "      <td>8.377550e+05</td>\n",
       "      <td>1.047339e+06</td>\n",
       "      <td>15000.000000</td>\n",
       "      <td>15000.000000</td>\n",
       "      <td>14400.000000</td>\n",
       "      <td>430.780000</td>\n",
       "      <td>8.230000e+04</td>\n",
       "      <td>18.600000</td>\n",
       "      <td>0.000000</td>\n",
       "      <td>1.000000</td>\n",
       "      <td>...</td>\n",
       "      <td>NaN</td>\n",
       "      <td>NaN</td>\n",
       "      <td>NaN</td>\n",
       "      <td>NaN</td>\n",
       "      <td>0.000000</td>\n",
       "      <td>0.0</td>\n",
       "      <td>NaN</td>\n",
       "      <td>NaN</td>\n",
       "      <td>NaN</td>\n",
       "      <td>NaN</td>\n",
       "    </tr>\n",
       "    <tr>\n",
       "      <th>max</th>\n",
       "      <td>1.077501e+06</td>\n",
       "      <td>1.314167e+06</td>\n",
       "      <td>35000.000000</td>\n",
       "      <td>35000.000000</td>\n",
       "      <td>35000.000000</td>\n",
       "      <td>1305.190000</td>\n",
       "      <td>6.000000e+06</td>\n",
       "      <td>29.990000</td>\n",
       "      <td>11.000000</td>\n",
       "      <td>8.000000</td>\n",
       "      <td>...</td>\n",
       "      <td>NaN</td>\n",
       "      <td>NaN</td>\n",
       "      <td>NaN</td>\n",
       "      <td>NaN</td>\n",
       "      <td>2.000000</td>\n",
       "      <td>0.0</td>\n",
       "      <td>NaN</td>\n",
       "      <td>NaN</td>\n",
       "      <td>NaN</td>\n",
       "      <td>NaN</td>\n",
       "    </tr>\n",
       "  </tbody>\n",
       "</table>\n",
       "<p>8 rows × 87 columns</p>\n",
       "</div>"
      ],
      "text/plain": [
       "                 id     member_id     loan_amnt   funded_amnt  \\\n",
       "count  3.971700e+04  3.971700e+04  39717.000000  39717.000000   \n",
       "mean   6.831319e+05  8.504636e+05  11219.443815  10947.713196   \n",
       "std    2.106941e+05  2.656783e+05   7456.670694   7187.238670   \n",
       "min    5.473400e+04  7.069900e+04    500.000000    500.000000   \n",
       "25%    5.162210e+05  6.667800e+05   5500.000000   5400.000000   \n",
       "50%    6.656650e+05  8.508120e+05  10000.000000   9600.000000   \n",
       "75%    8.377550e+05  1.047339e+06  15000.000000  15000.000000   \n",
       "max    1.077501e+06  1.314167e+06  35000.000000  35000.000000   \n",
       "\n",
       "       funded_amnt_inv   installment    annual_inc           dti  \\\n",
       "count     39717.000000  39717.000000  3.971700e+04  39717.000000   \n",
       "mean      10397.448868    324.561922  6.896893e+04     13.315130   \n",
       "std        7128.450439    208.874874  6.379377e+04      6.678594   \n",
       "min           0.000000     15.690000  4.000000e+03      0.000000   \n",
       "25%        5000.000000    167.020000  4.040400e+04      8.170000   \n",
       "50%        8975.000000    280.220000  5.900000e+04     13.400000   \n",
       "75%       14400.000000    430.780000  8.230000e+04     18.600000   \n",
       "max       35000.000000   1305.190000  6.000000e+06     29.990000   \n",
       "\n",
       "        delinq_2yrs  inq_last_6mths  ...  num_tl_90g_dpd_24m  \\\n",
       "count  39717.000000    39717.000000  ...                 0.0   \n",
       "mean       0.146512        0.869200  ...                 NaN   \n",
       "std        0.491812        1.070219  ...                 NaN   \n",
       "min        0.000000        0.000000  ...                 NaN   \n",
       "25%        0.000000        0.000000  ...                 NaN   \n",
       "50%        0.000000        1.000000  ...                 NaN   \n",
       "75%        0.000000        1.000000  ...                 NaN   \n",
       "max       11.000000        8.000000  ...                 NaN   \n",
       "\n",
       "       num_tl_op_past_12m  pct_tl_nvr_dlq  percent_bc_gt_75  \\\n",
       "count                 0.0             0.0               0.0   \n",
       "mean                  NaN             NaN               NaN   \n",
       "std                   NaN             NaN               NaN   \n",
       "min                   NaN             NaN               NaN   \n",
       "25%                   NaN             NaN               NaN   \n",
       "50%                   NaN             NaN               NaN   \n",
       "75%                   NaN             NaN               NaN   \n",
       "max                   NaN             NaN               NaN   \n",
       "\n",
       "       pub_rec_bankruptcies  tax_liens  tot_hi_cred_lim  total_bal_ex_mort  \\\n",
       "count          39020.000000    39678.0              0.0                0.0   \n",
       "mean               0.043260        0.0              NaN                NaN   \n",
       "std                0.204324        0.0              NaN                NaN   \n",
       "min                0.000000        0.0              NaN                NaN   \n",
       "25%                0.000000        0.0              NaN                NaN   \n",
       "50%                0.000000        0.0              NaN                NaN   \n",
       "75%                0.000000        0.0              NaN                NaN   \n",
       "max                2.000000        0.0              NaN                NaN   \n",
       "\n",
       "       total_bc_limit  total_il_high_credit_limit  \n",
       "count             0.0                         0.0  \n",
       "mean              NaN                         NaN  \n",
       "std               NaN                         NaN  \n",
       "min               NaN                         NaN  \n",
       "25%               NaN                         NaN  \n",
       "50%               NaN                         NaN  \n",
       "75%               NaN                         NaN  \n",
       "max               NaN                         NaN  \n",
       "\n",
       "[8 rows x 87 columns]"
      ]
     },
     "execution_count": 11,
     "metadata": {},
     "output_type": "execute_result"
    }
   ],
   "source": [
    "df.describe()"
   ]
  },
  {
   "cell_type": "markdown",
   "id": "8cb5f330",
   "metadata": {},
   "source": [
    "### Null Values Identification"
   ]
  },
  {
   "cell_type": "code",
   "execution_count": 12,
   "id": "35aa8279",
   "metadata": {},
   "outputs": [
    {
     "data": {
      "text/plain": [
       "id                              0.000000\n",
       "member_id                       0.000000\n",
       "loan_amnt                       0.000000\n",
       "funded_amnt                     0.000000\n",
       "funded_amnt_inv                 0.000000\n",
       "                                 ...    \n",
       "tax_liens                       0.098195\n",
       "tot_hi_cred_lim               100.000000\n",
       "total_bal_ex_mort             100.000000\n",
       "total_bc_limit                100.000000\n",
       "total_il_high_credit_limit    100.000000\n",
       "Length: 111, dtype: float64"
      ]
     },
     "execution_count": 12,
     "metadata": {},
     "output_type": "execute_result"
    }
   ],
   "source": [
    "null_values_table=(df.isna().sum()/df.shape[0])*100\n",
    "null_values_table"
   ]
  },
  {
   "cell_type": "code",
   "execution_count": 13,
   "id": "00010ab5",
   "metadata": {},
   "outputs": [],
   "source": [
    "high_null_value_columns =[]\n",
    "high_null_value_columns=null_values_table[null_values_table> 80].index\n"
   ]
  },
  {
   "cell_type": "code",
   "execution_count": 14,
   "id": "298d867f",
   "metadata": {},
   "outputs": [
    {
     "data": {
      "text/plain": [
       "56"
      ]
     },
     "execution_count": 14,
     "metadata": {},
     "output_type": "execute_result"
    }
   ],
   "source": [
    "len(high_null_value_columns)\n"
   ]
  },
  {
   "cell_type": "code",
   "execution_count": 15,
   "id": "8c59b0e9",
   "metadata": {},
   "outputs": [],
   "source": [
    "low_null_value_columns=null_values_table[null_values_table<= 80].index"
   ]
  },
  {
   "cell_type": "code",
   "execution_count": 16,
   "id": "610d78d8",
   "metadata": {},
   "outputs": [
    {
     "data": {
      "text/plain": [
       "55"
      ]
     },
     "execution_count": 16,
     "metadata": {},
     "output_type": "execute_result"
    }
   ],
   "source": [
    "len(low_null_value_columns)"
   ]
  },
  {
   "cell_type": "code",
   "execution_count": 17,
   "id": "58da9643",
   "metadata": {},
   "outputs": [],
   "source": [
    "##From the analysis it was understood that, in the following columns more 80 rows are having null values\n"
   ]
  },
  {
   "cell_type": "markdown",
   "id": "e113b0ef",
   "metadata": {},
   "source": [
    "## cleaning all null value columns\n"
   ]
  },
  {
   "cell_type": "code",
   "execution_count": 18,
   "id": "4b1be5a2",
   "metadata": {},
   "outputs": [],
   "source": [
    "# drop the columns containg all null values:\n",
    "\n",
    "df.dropna(axis = 1, how = 'all', inplace=True) "
   ]
  },
  {
   "cell_type": "code",
   "execution_count": 19,
   "id": "5d2ae9c4",
   "metadata": {},
   "outputs": [
    {
     "data": {
      "text/plain": [
       "(39717, 57)"
      ]
     },
     "execution_count": 19,
     "metadata": {},
     "output_type": "execute_result"
    }
   ],
   "source": [
    " df.shape "
   ]
  },
  {
   "cell_type": "code",
   "execution_count": 20,
   "id": "8030a9e0",
   "metadata": {},
   "outputs": [
    {
     "data": {
      "text/plain": [
       "Index(['id', 'member_id', 'loan_amnt', 'funded_amnt', 'funded_amnt_inv',\n",
       "       'term', 'int_rate', 'installment', 'grade', 'sub_grade', 'emp_title',\n",
       "       'emp_length', 'home_ownership', 'annual_inc', 'verification_status',\n",
       "       'issue_d', 'loan_status', 'pymnt_plan', 'url', 'desc', 'purpose',\n",
       "       'title', 'zip_code', 'addr_state', 'dti', 'delinq_2yrs',\n",
       "       'earliest_cr_line', 'inq_last_6mths', 'mths_since_last_delinq',\n",
       "       'mths_since_last_record', 'open_acc', 'pub_rec', 'revol_bal',\n",
       "       'revol_util', 'total_acc', 'initial_list_status', 'out_prncp',\n",
       "       'out_prncp_inv', 'total_pymnt', 'total_pymnt_inv', 'total_rec_prncp',\n",
       "       'total_rec_int', 'total_rec_late_fee', 'recoveries',\n",
       "       'collection_recovery_fee', 'last_pymnt_d', 'last_pymnt_amnt',\n",
       "       'next_pymnt_d', 'last_credit_pull_d', 'collections_12_mths_ex_med',\n",
       "       'policy_code', 'application_type', 'acc_now_delinq',\n",
       "       'chargeoff_within_12_mths', 'delinq_amnt', 'pub_rec_bankruptcies',\n",
       "       'tax_liens'],\n",
       "      dtype='object')"
      ]
     },
     "execution_count": 20,
     "metadata": {},
     "output_type": "execute_result"
    }
   ],
   "source": [
    "df.columns"
   ]
  },
  {
   "cell_type": "markdown",
   "id": "0de479fe",
   "metadata": {},
   "source": [
    "###   columns like Id, member_id, etc.. We won’t be working with all the columns in the dataset, so I am going to be deleting the columns I don’t need."
   ]
  },
  {
   "cell_type": "code",
   "execution_count": 21,
   "id": "2f7bb054",
   "metadata": {},
   "outputs": [],
   "source": [
    "df.drop(\"id\",axis=1,inplace=True)\n",
    "df.drop(\"member_id\",axis=1,inplace=True)\n",
    "df.drop(\"issue_d\",axis=1,inplace=True)\n",
    "df.drop(\"url\",axis=1,inplace=True)\n",
    "df.drop(\"zip_code\",axis=1,inplace=True)\n",
    "df.drop(\"emp_title\",axis=1,inplace=True)\n",
    "df.drop(\"desc\",axis=1,inplace=True)"
   ]
  },
  {
   "cell_type": "code",
   "execution_count": 22,
   "id": "b356a399",
   "metadata": {},
   "outputs": [
    {
     "data": {
      "text/plain": [
       "(39717, 50)"
      ]
     },
     "execution_count": 22,
     "metadata": {},
     "output_type": "execute_result"
    }
   ],
   "source": [
    " df.shape "
   ]
  },
  {
   "cell_type": "markdown",
   "id": "767874e5",
   "metadata": {},
   "source": [
    "# Univariate Analysis"
   ]
  },
  {
   "cell_type": "markdown",
   "id": "7769abd5",
   "metadata": {},
   "source": [
    "##  How may people living in RENT' 'OWN'  , 'MORTGAGE'  , 'OTHER', 'NONE' have taken loan?"
   ]
  },
  {
   "cell_type": "code",
   "execution_count": 23,
   "id": "e29171be",
   "metadata": {},
   "outputs": [
    {
     "data": {
      "text/plain": [
       "RENT        18899\n",
       "MORTGAGE    17659\n",
       "OWN          3058\n",
       "OTHER          98\n",
       "NONE            3\n",
       "Name: home_ownership, dtype: int64"
      ]
     },
     "execution_count": 23,
     "metadata": {},
     "output_type": "execute_result"
    }
   ],
   "source": [
    "df['home_ownership'].value_counts()"
   ]
  },
  {
   "cell_type": "code",
   "execution_count": 24,
   "id": "fbb43b71",
   "metadata": {},
   "outputs": [
    {
     "data": {
      "image/png": "[encoded data removed]",
      "text/plain": [
       "<Figure size 1440x720 with 1 Axes>"
      ]
     },
     "metadata": {
      "needs_background": "light"
     },
     "output_type": "display_data"
    }
   ],
   "source": [
    "fig_dims = (20, 10)\n",
    "fig, ax = plt.subplots(figsize=fig_dims)\n",
    "sns.countplot(x='home_ownership', ax=ax, data=df)\n",
    "plt.show()"
   ]
  },
  {
   "cell_type": "code",
   "execution_count": 25,
   "id": "072a0caa",
   "metadata": {},
   "outputs": [],
   "source": [
    " from sklearn.preprocessing import LabelEncoder\n",
    " le = LabelEncoder()\n",
    " df['home_ownership'] = le.fit_transform(df['home_ownership'])  # 'RENT' - 4, 'OWN' -3 , 'MORTGAGE' -2 , 'OTHER'-1 , 'NONE' - 0\n"
   ]
  },
  {
   "cell_type": "code",
   "execution_count": 26,
   "id": "4fed9d0a",
   "metadata": {},
   "outputs": [
    {
     "data": {
      "image/png": "[encoded data removed]",
      "text/plain": [
       "<Figure size 720x504 with 1 Axes>"
      ]
     },
     "metadata": {
      "needs_background": "light"
     },
     "output_type": "display_data"
    }
   ],
   "source": [
    "df = df[df.home_ownership != 0]  #removing the missing data rows\n",
    "fig_dims = (10, 7)\n",
    "fig, ax = plt.subplots(figsize=fig_dims)\n",
    "sns.countplot(x='home_ownership', ax=ax, data=df)\n",
    "plt.show()"
   ]
  },
  {
   "cell_type": "markdown",
   "id": "f4e976de",
   "metadata": {},
   "source": [
    "## BI- variate Analysis \n",
    "## people with their loan status"
   ]
  },
  {
   "cell_type": "markdown",
   "id": "43bfd80b",
   "metadata": {},
   "source": [
    "This indicates in fully paid categeory how many people are living in rent home, own home, mortagage, ..., like wise in other two categeories also"
   ]
  },
  {
   "cell_type": "code",
   "execution_count": 27,
   "id": "d925ee9c",
   "metadata": {},
   "outputs": [
    {
     "data": {
      "text/plain": [
       "array(['Fully Paid', 'Charged Off', 'Current'], dtype=object)"
      ]
     },
     "execution_count": 27,
     "metadata": {},
     "output_type": "execute_result"
    }
   ],
   "source": [
    "df['loan_status'].unique()"
   ]
  },
  {
   "cell_type": "code",
   "execution_count": 28,
   "id": "4b6a51b6",
   "metadata": {},
   "outputs": [
    {
     "data": {
      "text/plain": [
       "<AxesSubplot:xlabel='loan_status', ylabel='count'>"
      ]
     },
     "execution_count": 28,
     "metadata": {},
     "output_type": "execute_result"
    },
    {
     "data": {
      "image/png": "[encoded data removed]",
      "text/plain": [
       "<Figure size 432x288 with 1 Axes>"
      ]
     },
     "metadata": {
      "needs_background": "light"
     },
     "output_type": "display_data"
    }
   ],
   "source": [
    "sns.countplot(x='loan_status',hue = 'home_ownership', data=df)\n"
   ]
  },
  {
   "cell_type": "code",
   "execution_count": 29,
   "id": "45478fd9",
   "metadata": {},
   "outputs": [
    {
     "data": {
      "text/plain": [
       "10.99%    489\n",
       "13.49%    467\n",
       "11.49%    437\n",
       "7.51%     374\n",
       "7.88%     355\n",
       "         ... \n",
       "15.83%      1\n",
       "16.08%      1\n",
       "18.36%      1\n",
       "14.88%      1\n",
       "14.67%      1\n",
       "Name: int_rate, Length: 359, dtype: int64"
      ]
     },
     "execution_count": 29,
     "metadata": {},
     "output_type": "execute_result"
    }
   ],
   "source": [
    "df[character_variables[1]].value_counts()"
   ]
  },
  {
   "cell_type": "code",
   "execution_count": 30,
   "id": "4617acf3",
   "metadata": {},
   "outputs": [
    {
     "data": {
      "text/plain": [
       "B    6788\n",
       "A    4922\n",
       "C    4821\n",
       "D    3247\n",
       "E    1579\n",
       "F     538\n",
       "G     163\n",
       "Name: grade, dtype: int64"
      ]
     },
     "execution_count": 30,
     "metadata": {},
     "output_type": "execute_result"
    }
   ],
   "source": [
    "df[character_variables[2]].value_counts()"
   ]
  },
  {
   "cell_type": "markdown",
   "id": "8a6a7c04",
   "metadata": {},
   "source": []
  },
  {
   "cell_type": "markdown",
   "id": "f45f9c3a",
   "metadata": {},
   "source": [
    "## Grade wise analysis of people with different intrest rates\n",
    "\n",
    "there are 371 unique intrest rates and 7 uniue grades"
   ]
  },
  {
   "cell_type": "code",
   "execution_count": 31,
   "id": "09b970ba",
   "metadata": {},
   "outputs": [],
   "source": [
    "df_character=pd.crosstab(df[character_variables[1]],df[character_variables[2]])"
   ]
  },
  {
   "cell_type": "code",
   "execution_count": 32,
   "id": "96323275",
   "metadata": {},
   "outputs": [
    {
     "data": {
      "text/html": [
       "<div>\n",
       "<style scoped>\n",
       "    .dataframe tbody tr th:only-of-type {\n",
       "        vertical-align: middle;\n",
       "    }\n",
       "\n",
       "    .dataframe tbody tr th {\n",
       "        vertical-align: top;\n",
       "    }\n",
       "\n",
       "    .dataframe thead th {\n",
       "        text-align: right;\n",
       "    }\n",
       "</style>\n",
       "<table border=\"1\" class=\"dataframe\">\n",
       "  <thead>\n",
       "    <tr style=\"text-align: right;\">\n",
       "      <th>grade</th>\n",
       "      <th>A</th>\n",
       "      <th>B</th>\n",
       "      <th>C</th>\n",
       "      <th>D</th>\n",
       "      <th>E</th>\n",
       "      <th>F</th>\n",
       "      <th>G</th>\n",
       "    </tr>\n",
       "    <tr>\n",
       "      <th>int_rate</th>\n",
       "      <th></th>\n",
       "      <th></th>\n",
       "      <th></th>\n",
       "      <th></th>\n",
       "      <th></th>\n",
       "      <th></th>\n",
       "      <th></th>\n",
       "    </tr>\n",
       "  </thead>\n",
       "  <tbody>\n",
       "    <tr>\n",
       "      <th>10.00%</th>\n",
       "      <td>0.0</td>\n",
       "      <td>0.680025</td>\n",
       "      <td>0.0</td>\n",
       "      <td>0.0</td>\n",
       "      <td>0.0</td>\n",
       "      <td>0.0</td>\n",
       "      <td>0.0</td>\n",
       "    </tr>\n",
       "    <tr>\n",
       "      <th>10.01%</th>\n",
       "      <td>0.0</td>\n",
       "      <td>0.027201</td>\n",
       "      <td>0.0</td>\n",
       "      <td>0.0</td>\n",
       "      <td>0.0</td>\n",
       "      <td>0.0</td>\n",
       "      <td>0.0</td>\n",
       "    </tr>\n",
       "    <tr>\n",
       "      <th>10.08%</th>\n",
       "      <td>0.0</td>\n",
       "      <td>0.122405</td>\n",
       "      <td>0.0</td>\n",
       "      <td>0.0</td>\n",
       "      <td>0.0</td>\n",
       "      <td>0.0</td>\n",
       "      <td>0.0</td>\n",
       "    </tr>\n",
       "    <tr>\n",
       "      <th>10.14%</th>\n",
       "      <td>0.0</td>\n",
       "      <td>0.027201</td>\n",
       "      <td>0.0</td>\n",
       "      <td>0.0</td>\n",
       "      <td>0.0</td>\n",
       "      <td>0.0</td>\n",
       "      <td>0.0</td>\n",
       "    </tr>\n",
       "    <tr>\n",
       "      <th>10.20%</th>\n",
       "      <td>0.0</td>\n",
       "      <td>0.049869</td>\n",
       "      <td>0.0</td>\n",
       "      <td>0.0</td>\n",
       "      <td>0.0</td>\n",
       "      <td>0.0</td>\n",
       "      <td>0.0</td>\n",
       "    </tr>\n",
       "    <tr>\n",
       "      <th>...</th>\n",
       "      <td>...</td>\n",
       "      <td>...</td>\n",
       "      <td>...</td>\n",
       "      <td>...</td>\n",
       "      <td>...</td>\n",
       "      <td>...</td>\n",
       "      <td>...</td>\n",
       "    </tr>\n",
       "    <tr>\n",
       "      <th>9.83%</th>\n",
       "      <td>0.0</td>\n",
       "      <td>0.022668</td>\n",
       "      <td>0.0</td>\n",
       "      <td>0.0</td>\n",
       "      <td>0.0</td>\n",
       "      <td>0.0</td>\n",
       "      <td>0.0</td>\n",
       "    </tr>\n",
       "    <tr>\n",
       "      <th>9.88%</th>\n",
       "      <td>0.0</td>\n",
       "      <td>0.466951</td>\n",
       "      <td>0.0</td>\n",
       "      <td>0.0</td>\n",
       "      <td>0.0</td>\n",
       "      <td>0.0</td>\n",
       "      <td>0.0</td>\n",
       "    </tr>\n",
       "    <tr>\n",
       "      <th>9.91%</th>\n",
       "      <td>0.0</td>\n",
       "      <td>1.029105</td>\n",
       "      <td>0.0</td>\n",
       "      <td>0.0</td>\n",
       "      <td>0.0</td>\n",
       "      <td>0.0</td>\n",
       "      <td>0.0</td>\n",
       "    </tr>\n",
       "    <tr>\n",
       "      <th>9.96%</th>\n",
       "      <td>0.0</td>\n",
       "      <td>0.058936</td>\n",
       "      <td>0.0</td>\n",
       "      <td>0.0</td>\n",
       "      <td>0.0</td>\n",
       "      <td>0.0</td>\n",
       "      <td>0.0</td>\n",
       "    </tr>\n",
       "    <tr>\n",
       "      <th>9.99%</th>\n",
       "      <td>0.0</td>\n",
       "      <td>1.400852</td>\n",
       "      <td>0.0</td>\n",
       "      <td>0.0</td>\n",
       "      <td>0.0</td>\n",
       "      <td>0.0</td>\n",
       "      <td>0.0</td>\n",
       "    </tr>\n",
       "  </tbody>\n",
       "</table>\n",
       "<p>359 rows × 7 columns</p>\n",
       "</div>"
      ],
      "text/plain": [
       "grade       A         B    C    D    E    F    G\n",
       "int_rate                                        \n",
       "10.00%    0.0  0.680025  0.0  0.0  0.0  0.0  0.0\n",
       "10.01%    0.0  0.027201  0.0  0.0  0.0  0.0  0.0\n",
       "10.08%    0.0  0.122405  0.0  0.0  0.0  0.0  0.0\n",
       "10.14%    0.0  0.027201  0.0  0.0  0.0  0.0  0.0\n",
       "10.20%    0.0  0.049869  0.0  0.0  0.0  0.0  0.0\n",
       "...       ...       ...  ...  ...  ...  ...  ...\n",
       "9.83%     0.0  0.022668  0.0  0.0  0.0  0.0  0.0\n",
       "9.88%     0.0  0.466951  0.0  0.0  0.0  0.0  0.0\n",
       "9.91%     0.0  1.029105  0.0  0.0  0.0  0.0  0.0\n",
       "9.96%     0.0  0.058936  0.0  0.0  0.0  0.0  0.0\n",
       "9.99%     0.0  1.400852  0.0  0.0  0.0  0.0  0.0\n",
       "\n",
       "[359 rows x 7 columns]"
      ]
     },
     "execution_count": 32,
     "metadata": {},
     "output_type": "execute_result"
    }
   ],
   "source": [
    "(df_character/df.shape[0])*100"
   ]
  },
  {
   "cell_type": "markdown",
   "id": "9c50cdb8",
   "metadata": {},
   "source": [
    "#### open_acc- The number of open credit lines in the borrower's credit file.\n"
   ]
  },
  {
   "cell_type": "code",
   "execution_count": 33,
   "id": "42f8b448",
   "metadata": {},
   "outputs": [
    {
     "data": {
      "text/plain": [
       "<AxesSubplot:xlabel='home_ownership', ylabel='open_acc'>"
      ]
     },
     "execution_count": 33,
     "metadata": {},
     "output_type": "execute_result"
    },
    {
     "data": {
      "image/png": "[encoded data removed]",
      "text/plain": [
       "<Figure size 864x576 with 1 Axes>"
      ]
     },
     "metadata": {
      "needs_background": "light"
     },
     "output_type": "display_data"
    }
   ],
   "source": [
    "plt.figure(figsize = (12,8))\n",
    "sns.boxplot(x='home_ownership',y='open_acc', data=df)"
   ]
  },
  {
   "cell_type": "markdown",
   "id": "50c4a1ee",
   "metadata": {},
   "source": [
    "### important variables considered for analysis\n",
    "\n",
    "Loan_amt\n",
    "Term\n",
    "Interest_rate\n",
    "Grade\n",
    "SubGrade\n",
    "Annual Income\n",
    "Purpose of loan\n",
    "DTI (Debt to Income)\n",
    "Emp_Lenght\n",
    "Loan_Date(Month)\n",
    "Home_Ownership\n",
    "verification_status"
   ]
  },
  {
   "cell_type": "code",
   "execution_count": 34,
   "id": "9bc3fe92",
   "metadata": {},
   "outputs": [
    {
     "data": {
      "text/plain": [
       "Index(['loan_amnt', 'funded_amnt', 'funded_amnt_inv', 'term', 'int_rate',\n",
       "       'installment', 'grade', 'sub_grade', 'emp_length', 'home_ownership',\n",
       "       'annual_inc', 'verification_status', 'loan_status', 'pymnt_plan',\n",
       "       'purpose', 'title', 'addr_state', 'dti', 'delinq_2yrs',\n",
       "       'earliest_cr_line', 'inq_last_6mths', 'mths_since_last_delinq',\n",
       "       'mths_since_last_record', 'open_acc', 'pub_rec', 'revol_bal',\n",
       "       'revol_util', 'total_acc', 'initial_list_status', 'out_prncp',\n",
       "       'out_prncp_inv', 'total_pymnt', 'total_pymnt_inv', 'total_rec_prncp',\n",
       "       'total_rec_int', 'total_rec_late_fee', 'recoveries',\n",
       "       'collection_recovery_fee', 'last_pymnt_d', 'last_pymnt_amnt',\n",
       "       'next_pymnt_d', 'last_credit_pull_d', 'collections_12_mths_ex_med',\n",
       "       'policy_code', 'application_type', 'acc_now_delinq',\n",
       "       'chargeoff_within_12_mths', 'delinq_amnt', 'pub_rec_bankruptcies',\n",
       "       'tax_liens'],\n",
       "      dtype='object')"
      ]
     },
     "execution_count": 34,
     "metadata": {},
     "output_type": "execute_result"
    }
   ],
   "source": [
    "df.columns"
   ]
  },
  {
   "cell_type": "code",
   "execution_count": 74,
   "id": "2878e3c5",
   "metadata": {},
   "outputs": [],
   "source": [
    "newdf = df.copy(deep=True)\n",
    "imp_variables=['loan_amnt','loan_status', 'term', 'int_rate','grade','sub_grade', 'annual_inc', 'purpose', 'dti', 'emp_length', 'home_ownership', 'verification_status','recoveries','delinq_2yrs','total_rec_late_fee'] \n",
    "for i in newdf.columns:\n",
    "    if i not in imp_variables:\n",
    "        newdf.drop(i,axis=1,inplace=True)\n",
    "\n"
   ]
  },
  {
   "cell_type": "code",
   "execution_count": 75,
   "id": "b76d2469",
   "metadata": {},
   "outputs": [
    {
     "data": {
      "text/plain": [
       "(Index(['loan_amnt', 'term', 'int_rate', 'grade', 'sub_grade', 'emp_length',\n",
       "        'home_ownership', 'annual_inc', 'verification_status', 'loan_status',\n",
       "        'purpose', 'dti', 'delinq_2yrs', 'total_rec_late_fee', 'recoveries'],\n",
       "       dtype='object'),\n",
       " (22058, 15))"
      ]
     },
     "execution_count": 75,
     "metadata": {},
     "output_type": "execute_result"
    }
   ],
   "source": [
    "## copied the columns considered important for analysis to a new data frame\n",
    "newdf.columns, newdf.shape"
   ]
  },
  {
   "cell_type": "code",
   "execution_count": 37,
   "id": "98463cac",
   "metadata": {},
   "outputs": [
    {
     "data": {
      "text/plain": [
       "Index(['loan_amnt', 'home_ownership', 'annual_inc', 'dti', 'delinq_2yrs',\n",
       "       'total_rec_late_fee', 'recoveries'],\n",
       "      dtype='object')"
      ]
     },
     "execution_count": 37,
     "metadata": {},
     "output_type": "execute_result"
    }
   ],
   "source": [
    "# getting the numerical columns\n",
    "num_cols = newdf._get_numeric_data().columns\n",
    "num_cols"
   ]
  },
  {
   "cell_type": "code",
   "execution_count": 38,
   "id": "b711c1cc",
   "metadata": {},
   "outputs": [
    {
     "data": {
      "text/plain": [
       "loan_amnt              0.00000\n",
       "term                   0.00000\n",
       "int_rate               0.00000\n",
       "grade                  0.00000\n",
       "sub_grade              0.00000\n",
       "emp_length             2.84704\n",
       "home_ownership         0.00000\n",
       "annual_inc             0.00000\n",
       "verification_status    0.00000\n",
       "loan_status            0.00000\n",
       "purpose                0.00000\n",
       "dti                    0.00000\n",
       "delinq_2yrs            0.00000\n",
       "total_rec_late_fee     0.00000\n",
       "recoveries             0.00000\n",
       "dtype: float64"
      ]
     },
     "execution_count": 38,
     "metadata": {},
     "output_type": "execute_result"
    }
   ],
   "source": [
    "# checking for missing data\n",
    "null_values_table=(newdf.isna().sum()/df.shape[0])*100\n",
    "null_values_table"
   ]
  },
  {
   "cell_type": "markdown",
   "id": "73303c71",
   "metadata": {},
   "source": [
    "# treating the null values"
   ]
  },
  {
   "cell_type": "code",
   "execution_count": 76,
   "id": "a69e91ad",
   "metadata": {},
   "outputs": [],
   "source": [
    "\n",
    "newdf[\"emp_length\"].fillna( method ='ffill', inplace = True)"
   ]
  },
  {
   "cell_type": "code",
   "execution_count": 40,
   "id": "8a833b43",
   "metadata": {},
   "outputs": [
    {
     "data": {
      "text/plain": [
       "loan_amnt              0.0\n",
       "term                   0.0\n",
       "int_rate               0.0\n",
       "grade                  0.0\n",
       "sub_grade              0.0\n",
       "emp_length             0.0\n",
       "home_ownership         0.0\n",
       "annual_inc             0.0\n",
       "verification_status    0.0\n",
       "loan_status            0.0\n",
       "purpose                0.0\n",
       "dti                    0.0\n",
       "delinq_2yrs            0.0\n",
       "total_rec_late_fee     0.0\n",
       "recoveries             0.0\n",
       "dtype: float64"
      ]
     },
     "execution_count": 40,
     "metadata": {},
     "output_type": "execute_result"
    }
   ],
   "source": [
    "# verification of the null the data wheter all the missing data is taken care\n",
    "null_values_table=(newdf.isna().sum()/df.shape[0])*100\n",
    "null_values_table"
   ]
  },
  {
   "cell_type": "code",
   "execution_count": 41,
   "id": "52378013",
   "metadata": {},
   "outputs": [
    {
     "data": {
      "text/plain": [
       "['term',\n",
       " 'int_rate',\n",
       " 'grade',\n",
       " 'sub_grade',\n",
       " 'emp_length',\n",
       " 'verification_status',\n",
       " 'loan_status',\n",
       " 'purpose']"
      ]
     },
     "execution_count": 41,
     "metadata": {},
     "output_type": "execute_result"
    }
   ],
   "source": [
    "# identifying the charecter variables columns in the data frames\n",
    "character_variables=[]\n",
    "for i in newdf.columns:\n",
    "    if i not in num_cols:\n",
    "        character_variables.append(i)\n",
    "character_variables"
   ]
  },
  {
   "cell_type": "code",
   "execution_count": 42,
   "id": "e303eacc",
   "metadata": {},
   "outputs": [],
   "source": [
    "# drop the rows if any null values are present along the row\n",
    "newdf.dropna(axis=0,inplace=True)"
   ]
  },
  {
   "cell_type": "code",
   "execution_count": 43,
   "id": "084b0aa6",
   "metadata": {},
   "outputs": [
    {
     "data": {
      "text/plain": [
       "(22058, 15)"
      ]
     },
     "execution_count": 43,
     "metadata": {},
     "output_type": "execute_result"
    }
   ],
   "source": [
    "newdf.shape"
   ]
  },
  {
   "cell_type": "code",
   "execution_count": 44,
   "id": "86e4f1f9",
   "metadata": {},
   "outputs": [
    {
     "data": {
      "text/html": [
       "<div>\n",
       "<style scoped>\n",
       "    .dataframe tbody tr th:only-of-type {\n",
       "        vertical-align: middle;\n",
       "    }\n",
       "\n",
       "    .dataframe tbody tr th {\n",
       "        vertical-align: top;\n",
       "    }\n",
       "\n",
       "    .dataframe thead th {\n",
       "        text-align: right;\n",
       "    }\n",
       "</style>\n",
       "<table border=\"1\" class=\"dataframe\">\n",
       "  <thead>\n",
       "    <tr style=\"text-align: right;\">\n",
       "      <th></th>\n",
       "      <th>loan_amnt</th>\n",
       "      <th>home_ownership</th>\n",
       "      <th>annual_inc</th>\n",
       "      <th>dti</th>\n",
       "      <th>delinq_2yrs</th>\n",
       "      <th>total_rec_late_fee</th>\n",
       "      <th>recoveries</th>\n",
       "    </tr>\n",
       "  </thead>\n",
       "  <tbody>\n",
       "    <tr>\n",
       "      <th>count</th>\n",
       "      <td>22058.000000</td>\n",
       "      <td>22058.000000</td>\n",
       "      <td>2.205800e+04</td>\n",
       "      <td>22058.000000</td>\n",
       "      <td>22058.000000</td>\n",
       "      <td>22058.000000</td>\n",
       "      <td>22058.000000</td>\n",
       "    </tr>\n",
       "    <tr>\n",
       "      <th>mean</th>\n",
       "      <td>10042.100372</td>\n",
       "      <td>3.852072</td>\n",
       "      <td>5.764241e+04</td>\n",
       "      <td>13.433071</td>\n",
       "      <td>0.139723</td>\n",
       "      <td>1.531457</td>\n",
       "      <td>84.629442</td>\n",
       "    </tr>\n",
       "    <tr>\n",
       "      <th>std</th>\n",
       "      <td>6729.638386</td>\n",
       "      <td>0.368447</td>\n",
       "      <td>4.457947e+04</td>\n",
       "      <td>6.741720</td>\n",
       "      <td>0.485421</td>\n",
       "      <td>7.625226</td>\n",
       "      <td>558.579679</td>\n",
       "    </tr>\n",
       "    <tr>\n",
       "      <th>min</th>\n",
       "      <td>500.000000</td>\n",
       "      <td>1.000000</td>\n",
       "      <td>4.000000e+03</td>\n",
       "      <td>0.000000</td>\n",
       "      <td>0.000000</td>\n",
       "      <td>0.000000</td>\n",
       "      <td>0.000000</td>\n",
       "    </tr>\n",
       "    <tr>\n",
       "      <th>25%</th>\n",
       "      <td>5000.000000</td>\n",
       "      <td>4.000000</td>\n",
       "      <td>3.500400e+04</td>\n",
       "      <td>8.200000</td>\n",
       "      <td>0.000000</td>\n",
       "      <td>0.000000</td>\n",
       "      <td>0.000000</td>\n",
       "    </tr>\n",
       "    <tr>\n",
       "      <th>50%</th>\n",
       "      <td>8400.000000</td>\n",
       "      <td>4.000000</td>\n",
       "      <td>5.000000e+04</td>\n",
       "      <td>13.575000</td>\n",
       "      <td>0.000000</td>\n",
       "      <td>0.000000</td>\n",
       "      <td>0.000000</td>\n",
       "    </tr>\n",
       "    <tr>\n",
       "      <th>75%</th>\n",
       "      <td>13750.000000</td>\n",
       "      <td>4.000000</td>\n",
       "      <td>7.000000e+04</td>\n",
       "      <td>18.840000</td>\n",
       "      <td>0.000000</td>\n",
       "      <td>0.000000</td>\n",
       "      <td>0.000000</td>\n",
       "    </tr>\n",
       "    <tr>\n",
       "      <th>max</th>\n",
       "      <td>35000.000000</td>\n",
       "      <td>4.000000</td>\n",
       "      <td>2.039784e+06</td>\n",
       "      <td>29.990000</td>\n",
       "      <td>11.000000</td>\n",
       "      <td>166.429711</td>\n",
       "      <td>19915.670000</td>\n",
       "    </tr>\n",
       "  </tbody>\n",
       "</table>\n",
       "</div>"
      ],
      "text/plain": [
       "          loan_amnt  home_ownership    annual_inc           dti   delinq_2yrs  \\\n",
       "count  22058.000000    22058.000000  2.205800e+04  22058.000000  22058.000000   \n",
       "mean   10042.100372        3.852072  5.764241e+04     13.433071      0.139723   \n",
       "std     6729.638386        0.368447  4.457947e+04      6.741720      0.485421   \n",
       "min      500.000000        1.000000  4.000000e+03      0.000000      0.000000   \n",
       "25%     5000.000000        4.000000  3.500400e+04      8.200000      0.000000   \n",
       "50%     8400.000000        4.000000  5.000000e+04     13.575000      0.000000   \n",
       "75%    13750.000000        4.000000  7.000000e+04     18.840000      0.000000   \n",
       "max    35000.000000        4.000000  2.039784e+06     29.990000     11.000000   \n",
       "\n",
       "       total_rec_late_fee    recoveries  \n",
       "count        22058.000000  22058.000000  \n",
       "mean             1.531457     84.629442  \n",
       "std              7.625226    558.579679  \n",
       "min              0.000000      0.000000  \n",
       "25%              0.000000      0.000000  \n",
       "50%              0.000000      0.000000  \n",
       "75%              0.000000      0.000000  \n",
       "max            166.429711  19915.670000  "
      ]
     },
     "execution_count": 44,
     "metadata": {},
     "output_type": "execute_result"
    }
   ],
   "source": [
    "newdf.describe()"
   ]
  },
  {
   "cell_type": "code",
   "execution_count": 45,
   "id": "b8968691",
   "metadata": {},
   "outputs": [
    {
     "data": {
      "text/plain": [
       "Index(['loan_amnt', 'home_ownership', 'annual_inc', 'dti', 'delinq_2yrs',\n",
       "       'total_rec_late_fee', 'recoveries'],\n",
       "      dtype='object')"
      ]
     },
     "execution_count": 45,
     "metadata": {},
     "output_type": "execute_result"
    }
   ],
   "source": [
    "num_cols = newdf._get_numeric_data().columns\n",
    "num_cols"
   ]
  },
  {
   "cell_type": "code",
   "execution_count": 46,
   "id": "6928f4db",
   "metadata": {},
   "outputs": [],
   "source": [
    "asset_var = ['loan_amnt' ,'delinq_2yrs', 'annual_inc' , 'total_rec_late_fee']\n"
   ]
  },
  {
   "cell_type": "code",
   "execution_count": 47,
   "id": "26d8847e",
   "metadata": {},
   "outputs": [
    {
     "name": "stderr",
     "output_type": "stream",
     "text": [
      "C:\\Users\\ahmed\\anaconda3\\lib\\site-packages\\seaborn\\distributions.py:316: UserWarning: Dataset has 0 variance; skipping density estimate. Pass `warn_singular=False` to disable this warning.\n",
      "  warnings.warn(msg, UserWarning)\n",
      "C:\\Users\\ahmed\\anaconda3\\lib\\site-packages\\seaborn\\distributions.py:316: UserWarning: Dataset has 0 variance; skipping density estimate. Pass `warn_singular=False` to disable this warning.\n",
      "  warnings.warn(msg, UserWarning)\n"
     ]
    },
    {
     "data": {
      "image/png": "[encoded data removed]",
      "text/plain": [
       "<Figure size 720x360 with 4 Axes>"
      ]
     },
     "metadata": {
      "needs_background": "light"
     },
     "output_type": "display_data"
    }
   ],
   "source": [
    "num_cols = newdf._get_numeric_data().columns\n",
    "plt.figure(figsize =(10,5))\n",
    "for i,cols in enumerate(asset_var):\n",
    "    plt.subplot(2,2,i+1)\n",
    "    sns.kdeplot( data =newdf , x = cols, hue =  'home_ownership' )\n",
    "    plt.subplots_adjust(wspace=0.5, hspace =0.5)"
   ]
  },
  {
   "cell_type": "code",
   "execution_count": 48,
   "id": "292bb8a5",
   "metadata": {},
   "outputs": [
    {
     "data": {
      "text/plain": [
       "term                      2\n",
       "verification_status       3\n",
       "loan_status               3\n",
       "home_ownership            4\n",
       "grade                     7\n",
       "delinq_2yrs              10\n",
       "emp_length               11\n",
       "purpose                  14\n",
       "sub_grade                35\n",
       "int_rate                359\n",
       "loan_amnt               727\n",
       "total_rec_late_fee      843\n",
       "recoveries             2492\n",
       "dti                    2739\n",
       "annual_inc             3279\n",
       "dtype: int64"
      ]
     },
     "execution_count": 48,
     "metadata": {},
     "output_type": "execute_result"
    }
   ],
   "source": [
    "newdf.nunique().sort_values()"
   ]
  },
  {
   "cell_type": "code",
   "execution_count": 77,
   "id": "e3bc0007",
   "metadata": {},
   "outputs": [
    {
     "data": {
      "text/plain": [
       "<AxesSubplot:xlabel='total_rec_late_fee', ylabel='Density'>"
      ]
     },
     "execution_count": 77,
     "metadata": {},
     "output_type": "execute_result"
    },
    {
     "data": {
      "image/png": "[encoded data removed]",
      "text/plain": [
       "<Figure size 432x288 with 1 Axes>"
      ]
     },
     "metadata": {
      "needs_background": "light"
     },
     "output_type": "display_data"
    }
   ],
   "source": [
    "sns.kdeplot(data=newdf, x = 'total_rec_late_fee')"
   ]
  },
  {
   "cell_type": "markdown",
   "id": "770c00a6",
   "metadata": {},
   "source": [
    "# Binning"
   ]
  },
  {
   "cell_type": "code",
   "execution_count": 78,
   "id": "25883fb9",
   "metadata": {},
   "outputs": [],
   "source": [
    "bin = [0,10,20,30,40,50]\n",
    "range =['0-10','10-20','20-30','30-40','above40']\n",
    "newdf['total_rec_late_fee_range'] = pd.cut(newdf['total_rec_late_fee'],bin, labels = range)"
   ]
  },
  {
   "cell_type": "code",
   "execution_count": 51,
   "id": "7166b8eb",
   "metadata": {},
   "outputs": [
    {
     "data": {
      "text/plain": [
       "<AxesSubplot:xlabel='total_rec_late_fee_range'>"
      ]
     },
     "execution_count": 51,
     "metadata": {},
     "output_type": "execute_result"
    },
    {
     "data": {
      "image/png": "[encoded data removed]",
      "text/plain": [
       "<Figure size 432x288 with 1 Axes>"
      ]
     },
     "metadata": {
      "needs_background": "light"
     },
     "output_type": "display_data"
    }
   ],
   "source": [
    "newdf.groupby(['total_rec_late_fee_range']).size().plot(kind=\"bar\")"
   ]
  },
  {
   "cell_type": "code",
   "execution_count": null,
   "id": "8901049c",
   "metadata": {},
   "outputs": [],
   "source": []
  },
  {
   "cell_type": "code",
   "execution_count": 52,
   "id": "16662103",
   "metadata": {},
   "outputs": [
    {
     "data": {
      "text/plain": [
       "array(['Fully Paid', 'Charged Off', 'Current'], dtype=object)"
      ]
     },
     "execution_count": 52,
     "metadata": {},
     "output_type": "execute_result"
    }
   ],
   "source": [
    "newdf['loan_status'].unique()  "
   ]
  },
  {
   "cell_type": "code",
   "execution_count": 53,
   "id": "31503050",
   "metadata": {},
   "outputs": [],
   "source": [
    "newdf = newdf[df.loan_status != 'Current'] ### dropping the Current"
   ]
  },
  {
   "cell_type": "code",
   "execution_count": 54,
   "id": "8efb17a0",
   "metadata": {},
   "outputs": [
    {
     "data": {
      "text/plain": [
       "array(['Fully Paid', 'Charged Off'], dtype=object)"
      ]
     },
     "execution_count": 54,
     "metadata": {},
     "output_type": "execute_result"
    }
   ],
   "source": [
    "newdf['loan_status'].unique()"
   ]
  },
  {
   "cell_type": "code",
   "execution_count": 55,
   "id": "f3e2840f",
   "metadata": {},
   "outputs": [
    {
     "data": {
      "text/plain": [
       "(21556, 16)"
      ]
     },
     "execution_count": 55,
     "metadata": {},
     "output_type": "execute_result"
    }
   ],
   "source": [
    "newdf.shape"
   ]
  },
  {
   "cell_type": "code",
   "execution_count": 79,
   "id": "db687e72",
   "metadata": {},
   "outputs": [],
   "source": [
    "df['loan_status'] = le.fit_transform(df['loan_status']) # converting categorical to numerical"
   ]
  },
  {
   "cell_type": "code",
   "execution_count": 57,
   "id": "924c9a94",
   "metadata": {},
   "outputs": [
    {
     "data": {
      "image/png": "[encoded data removed]",
      "text/plain": [
       "<Figure size 720x360 with 4 Axes>"
      ]
     },
     "metadata": {
      "needs_background": "light"
     },
     "output_type": "display_data"
    }
   ],
   "source": [
    "var = ['loan_amnt' ,'home_ownership', 'annual_inc' , 'dti']\n",
    "num_cols = newdf._get_numeric_data().columns\n",
    "plt.figure(figsize =(10,5))\n",
    "for i,cols in enumerate(var):\n",
    "    plt.subplot(2,2,i+1)\n",
    "    sns.kdeplot( data =newdf , x = cols, hue =  'loan_status' )\n",
    "    plt.subplots_adjust(wspace=0.5, hspace =0.5)"
   ]
  },
  {
   "cell_type": "markdown",
   "id": "2327cdf2",
   "metadata": {},
   "source": [
    "# Bivariate Analysis"
   ]
  },
  {
   "cell_type": "code",
   "execution_count": 58,
   "id": "e150ed1d",
   "metadata": {},
   "outputs": [
    {
     "data": {
      "image/png": "[encoded data removed]",
      "text/plain": [
       "<Figure size 432x288 with 1 Axes>"
      ]
     },
     "metadata": {
      "needs_background": "light"
     },
     "output_type": "display_data"
    }
   ],
   "source": [
    "sns.barplot(x = \"term\", y = \"dti\", hue = \"loan_status\", data = newdf)\n",
    "plt.show()"
   ]
  },
  {
   "cell_type": "markdown",
   "id": "861ef373",
   "metadata": {},
   "source": [
    "# outlier treatment in annual_inc"
   ]
  },
  {
   "cell_type": "code",
   "execution_count": 80,
   "id": "0221a730",
   "metadata": {},
   "outputs": [
    {
     "name": "stderr",
     "output_type": "stream",
     "text": [
      "C:\\Users\\ahmed\\anaconda3\\lib\\site-packages\\seaborn\\distributions.py:2619: FutureWarning: `distplot` is a deprecated function and will be removed in a future version. Please adapt your code to use either `displot` (a figure-level function with similar flexibility) or `histplot` (an axes-level function for histograms).\n",
      "  warnings.warn(msg, FutureWarning)\n"
     ]
    },
    {
     "data": {
      "text/plain": [
       "<AxesSubplot:xlabel='annual_inc', ylabel='Density'>"
      ]
     },
     "execution_count": 80,
     "metadata": {},
     "output_type": "execute_result"
    },
    {
     "data": {
      "image/png": "[encoded data removed]",
      "text/plain": [
       "<Figure size 432x288 with 1 Axes>"
      ]
     },
     "metadata": {
      "needs_background": "light"
     },
     "output_type": "display_data"
    }
   ],
   "source": [
    "# outlier treatment\n",
    "sns.distplot(newdf['annual_inc']) ## data is right skewed"
   ]
  },
  {
   "cell_type": "code",
   "execution_count": 60,
   "id": "97984c10",
   "metadata": {},
   "outputs": [
    {
     "name": "stderr",
     "output_type": "stream",
     "text": [
      "C:\\Users\\ahmed\\anaconda3\\lib\\site-packages\\seaborn\\_decorators.py:36: FutureWarning: Pass the following variable as a keyword arg: x. From version 0.12, the only valid positional argument will be `data`, and passing other arguments without an explicit keyword will result in an error or misinterpretation.\n",
      "  warnings.warn(\n"
     ]
    },
    {
     "data": {
      "text/plain": [
       "<AxesSubplot:xlabel='annual_inc'>"
      ]
     },
     "execution_count": 60,
     "metadata": {},
     "output_type": "execute_result"
    },
    {
     "data": {
      "image/png": "[encoded data removed]",
      "text/plain": [
       "<Figure size 432x288 with 1 Axes>"
      ]
     },
     "metadata": {
      "needs_background": "light"
     },
     "output_type": "display_data"
    }
   ],
   "source": [
    "sns.boxplot(newdf['annual_inc'])"
   ]
  },
  {
   "cell_type": "markdown",
   "id": "c34f99fc",
   "metadata": {},
   "source": [
    "# identification of upper and lower limt from box plot"
   ]
  },
  {
   "cell_type": "code",
   "execution_count": 61,
   "id": "f85676bc",
   "metadata": {},
   "outputs": [
    {
     "data": {
      "text/plain": [
       "(191694.0381270193, -76631.28099582612)"
      ]
     },
     "execution_count": 61,
     "metadata": {},
     "output_type": "execute_result"
    }
   ],
   "source": [
    "up_limit = newdf['annual_inc'].mean() + 3*newdf['annual_inc'].std()\n",
    "low_limit = newdf['annual_inc'].mean() - 3*newdf['annual_inc'].std()\n",
    "\n",
    "up_limit, low_limit"
   ]
  },
  {
   "cell_type": "code",
   "execution_count": 81,
   "id": "42ab71f6",
   "metadata": {},
   "outputs": [
    {
     "data": {
      "text/html": [
       "<div>\n",
       "<style scoped>\n",
       "    .dataframe tbody tr th:only-of-type {\n",
       "        vertical-align: middle;\n",
       "    }\n",
       "\n",
       "    .dataframe tbody tr th {\n",
       "        vertical-align: top;\n",
       "    }\n",
       "\n",
       "    .dataframe thead th {\n",
       "        text-align: right;\n",
       "    }\n",
       "</style>\n",
       "<table border=\"1\" class=\"dataframe\">\n",
       "  <thead>\n",
       "    <tr style=\"text-align: right;\">\n",
       "      <th></th>\n",
       "      <th>loan_amnt</th>\n",
       "      <th>term</th>\n",
       "      <th>int_rate</th>\n",
       "      <th>grade</th>\n",
       "      <th>sub_grade</th>\n",
       "      <th>emp_length</th>\n",
       "      <th>home_ownership</th>\n",
       "      <th>annual_inc</th>\n",
       "      <th>verification_status</th>\n",
       "      <th>loan_status</th>\n",
       "      <th>purpose</th>\n",
       "      <th>dti</th>\n",
       "      <th>delinq_2yrs</th>\n",
       "      <th>total_rec_late_fee</th>\n",
       "      <th>recoveries</th>\n",
       "      <th>total_rec_late_fee_range</th>\n",
       "    </tr>\n",
       "  </thead>\n",
       "  <tbody>\n",
       "    <tr>\n",
       "      <th>170</th>\n",
       "      <td>25000</td>\n",
       "      <td>36 months</td>\n",
       "      <td>12.42%</td>\n",
       "      <td>B</td>\n",
       "      <td>B4</td>\n",
       "      <td>2 years</td>\n",
       "      <td>4</td>\n",
       "      <td>225000.0</td>\n",
       "      <td>Verified</td>\n",
       "      <td>2</td>\n",
       "      <td>debt_consolidation</td>\n",
       "      <td>8.32</td>\n",
       "      <td>1</td>\n",
       "      <td>0.0</td>\n",
       "      <td>0.0</td>\n",
       "      <td>NaN</td>\n",
       "    </tr>\n",
       "    <tr>\n",
       "      <th>392</th>\n",
       "      <td>5000</td>\n",
       "      <td>36 months</td>\n",
       "      <td>6.62%</td>\n",
       "      <td>A</td>\n",
       "      <td>A2</td>\n",
       "      <td>1 year</td>\n",
       "      <td>4</td>\n",
       "      <td>276000.0</td>\n",
       "      <td>Source Verified</td>\n",
       "      <td>2</td>\n",
       "      <td>debt_consolidation</td>\n",
       "      <td>1.82</td>\n",
       "      <td>0</td>\n",
       "      <td>0.0</td>\n",
       "      <td>0.0</td>\n",
       "      <td>NaN</td>\n",
       "    </tr>\n",
       "    <tr>\n",
       "      <th>431</th>\n",
       "      <td>35000</td>\n",
       "      <td>60 months</td>\n",
       "      <td>19.42%</td>\n",
       "      <td>E</td>\n",
       "      <td>E3</td>\n",
       "      <td>8 years</td>\n",
       "      <td>4</td>\n",
       "      <td>195000.0</td>\n",
       "      <td>Verified</td>\n",
       "      <td>1</td>\n",
       "      <td>debt_consolidation</td>\n",
       "      <td>11.72</td>\n",
       "      <td>0</td>\n",
       "      <td>0.0</td>\n",
       "      <td>0.0</td>\n",
       "      <td>NaN</td>\n",
       "    </tr>\n",
       "    <tr>\n",
       "      <th>1069</th>\n",
       "      <td>12000</td>\n",
       "      <td>36 months</td>\n",
       "      <td>12.69%</td>\n",
       "      <td>B</td>\n",
       "      <td>B5</td>\n",
       "      <td>10+ years</td>\n",
       "      <td>4</td>\n",
       "      <td>200000.0</td>\n",
       "      <td>Source Verified</td>\n",
       "      <td>2</td>\n",
       "      <td>debt_consolidation</td>\n",
       "      <td>6.61</td>\n",
       "      <td>0</td>\n",
       "      <td>0.0</td>\n",
       "      <td>0.0</td>\n",
       "      <td>NaN</td>\n",
       "    </tr>\n",
       "    <tr>\n",
       "      <th>1617</th>\n",
       "      <td>10000</td>\n",
       "      <td>36 months</td>\n",
       "      <td>15.96%</td>\n",
       "      <td>C</td>\n",
       "      <td>C5</td>\n",
       "      <td>4 years</td>\n",
       "      <td>4</td>\n",
       "      <td>280000.0</td>\n",
       "      <td>Source Verified</td>\n",
       "      <td>2</td>\n",
       "      <td>credit_card</td>\n",
       "      <td>6.27</td>\n",
       "      <td>0</td>\n",
       "      <td>0.0</td>\n",
       "      <td>0.0</td>\n",
       "      <td>NaN</td>\n",
       "    </tr>\n",
       "    <tr>\n",
       "      <th>...</th>\n",
       "      <td>...</td>\n",
       "      <td>...</td>\n",
       "      <td>...</td>\n",
       "      <td>...</td>\n",
       "      <td>...</td>\n",
       "      <td>...</td>\n",
       "      <td>...</td>\n",
       "      <td>...</td>\n",
       "      <td>...</td>\n",
       "      <td>...</td>\n",
       "      <td>...</td>\n",
       "      <td>...</td>\n",
       "      <td>...</td>\n",
       "      <td>...</td>\n",
       "      <td>...</td>\n",
       "      <td>...</td>\n",
       "    </tr>\n",
       "    <tr>\n",
       "      <th>39098</th>\n",
       "      <td>16000</td>\n",
       "      <td>36 months</td>\n",
       "      <td>9.76%</td>\n",
       "      <td>B</td>\n",
       "      <td>B2</td>\n",
       "      <td>10+ years</td>\n",
       "      <td>4</td>\n",
       "      <td>572400.0</td>\n",
       "      <td>Not Verified</td>\n",
       "      <td>2</td>\n",
       "      <td>wedding</td>\n",
       "      <td>1.61</td>\n",
       "      <td>0</td>\n",
       "      <td>0.0</td>\n",
       "      <td>0.0</td>\n",
       "      <td>NaN</td>\n",
       "    </tr>\n",
       "    <tr>\n",
       "      <th>39247</th>\n",
       "      <td>8000</td>\n",
       "      <td>36 months</td>\n",
       "      <td>10.71%</td>\n",
       "      <td>B</td>\n",
       "      <td>B5</td>\n",
       "      <td>2 years</td>\n",
       "      <td>4</td>\n",
       "      <td>215000.0</td>\n",
       "      <td>Not Verified</td>\n",
       "      <td>2</td>\n",
       "      <td>medical</td>\n",
       "      <td>17.66</td>\n",
       "      <td>0</td>\n",
       "      <td>0.0</td>\n",
       "      <td>0.0</td>\n",
       "      <td>NaN</td>\n",
       "    </tr>\n",
       "    <tr>\n",
       "      <th>39339</th>\n",
       "      <td>15000</td>\n",
       "      <td>36 months</td>\n",
       "      <td>11.72%</td>\n",
       "      <td>C</td>\n",
       "      <td>C4</td>\n",
       "      <td>2 years</td>\n",
       "      <td>4</td>\n",
       "      <td>200000.0</td>\n",
       "      <td>Not Verified</td>\n",
       "      <td>2</td>\n",
       "      <td>medical</td>\n",
       "      <td>15.46</td>\n",
       "      <td>0</td>\n",
       "      <td>0.0</td>\n",
       "      <td>0.0</td>\n",
       "      <td>NaN</td>\n",
       "    </tr>\n",
       "    <tr>\n",
       "      <th>39543</th>\n",
       "      <td>16000</td>\n",
       "      <td>36 months</td>\n",
       "      <td>10.91%</td>\n",
       "      <td>C</td>\n",
       "      <td>C3</td>\n",
       "      <td>&lt; 1 year</td>\n",
       "      <td>4</td>\n",
       "      <td>200000.0</td>\n",
       "      <td>Not Verified</td>\n",
       "      <td>2</td>\n",
       "      <td>credit_card</td>\n",
       "      <td>10.70</td>\n",
       "      <td>0</td>\n",
       "      <td>0.0</td>\n",
       "      <td>0.0</td>\n",
       "      <td>NaN</td>\n",
       "    </tr>\n",
       "    <tr>\n",
       "      <th>39676</th>\n",
       "      <td>5000</td>\n",
       "      <td>36 months</td>\n",
       "      <td>7.43%</td>\n",
       "      <td>A</td>\n",
       "      <td>A2</td>\n",
       "      <td>4 years</td>\n",
       "      <td>4</td>\n",
       "      <td>200000.0</td>\n",
       "      <td>Not Verified</td>\n",
       "      <td>2</td>\n",
       "      <td>house</td>\n",
       "      <td>0.28</td>\n",
       "      <td>0</td>\n",
       "      <td>0.0</td>\n",
       "      <td>0.0</td>\n",
       "      <td>NaN</td>\n",
       "    </tr>\n",
       "  </tbody>\n",
       "</table>\n",
       "<p>206 rows × 16 columns</p>\n",
       "</div>"
      ],
      "text/plain": [
       "       loan_amnt        term int_rate grade sub_grade emp_length  \\\n",
       "170        25000   36 months   12.42%     B        B4    2 years   \n",
       "392         5000   36 months    6.62%     A        A2     1 year   \n",
       "431        35000   60 months   19.42%     E        E3    8 years   \n",
       "1069       12000   36 months   12.69%     B        B5  10+ years   \n",
       "1617       10000   36 months   15.96%     C        C5    4 years   \n",
       "...          ...         ...      ...   ...       ...        ...   \n",
       "39098      16000   36 months    9.76%     B        B2  10+ years   \n",
       "39247       8000   36 months   10.71%     B        B5    2 years   \n",
       "39339      15000   36 months   11.72%     C        C4    2 years   \n",
       "39543      16000   36 months   10.91%     C        C3   < 1 year   \n",
       "39676       5000   36 months    7.43%     A        A2    4 years   \n",
       "\n",
       "       home_ownership  annual_inc verification_status  loan_status  \\\n",
       "170                 4    225000.0            Verified            2   \n",
       "392                 4    276000.0     Source Verified            2   \n",
       "431                 4    195000.0            Verified            1   \n",
       "1069                4    200000.0     Source Verified            2   \n",
       "1617                4    280000.0     Source Verified            2   \n",
       "...               ...         ...                 ...          ...   \n",
       "39098               4    572400.0        Not Verified            2   \n",
       "39247               4    215000.0        Not Verified            2   \n",
       "39339               4    200000.0        Not Verified            2   \n",
       "39543               4    200000.0        Not Verified            2   \n",
       "39676               4    200000.0        Not Verified            2   \n",
       "\n",
       "                  purpose    dti  delinq_2yrs  total_rec_late_fee  recoveries  \\\n",
       "170    debt_consolidation   8.32            1                 0.0         0.0   \n",
       "392    debt_consolidation   1.82            0                 0.0         0.0   \n",
       "431    debt_consolidation  11.72            0                 0.0         0.0   \n",
       "1069   debt_consolidation   6.61            0                 0.0         0.0   \n",
       "1617          credit_card   6.27            0                 0.0         0.0   \n",
       "...                   ...    ...          ...                 ...         ...   \n",
       "39098             wedding   1.61            0                 0.0         0.0   \n",
       "39247             medical  17.66            0                 0.0         0.0   \n",
       "39339             medical  15.46            0                 0.0         0.0   \n",
       "39543         credit_card  10.70            0                 0.0         0.0   \n",
       "39676               house   0.28            0                 0.0         0.0   \n",
       "\n",
       "      total_rec_late_fee_range  \n",
       "170                        NaN  \n",
       "392                        NaN  \n",
       "431                        NaN  \n",
       "1069                       NaN  \n",
       "1617                       NaN  \n",
       "...                        ...  \n",
       "39098                      NaN  \n",
       "39247                      NaN  \n",
       "39339                      NaN  \n",
       "39543                      NaN  \n",
       "39676                      NaN  \n",
       "\n",
       "[206 rows x 16 columns]"
      ]
     },
     "execution_count": 81,
     "metadata": {},
     "output_type": "execute_result"
    }
   ],
   "source": [
    "newdf.loc[(newdf['annual_inc']>up_limit)|(newdf['annual_inc']<low_limit)]"
   ]
  },
  {
   "cell_type": "code",
   "execution_count": 63,
   "id": "b4e00c5d",
   "metadata": {},
   "outputs": [],
   "source": [
    "# the above table shows the outliers present in the annual income"
   ]
  },
  {
   "cell_type": "markdown",
   "id": "c72f91df",
   "metadata": {},
   "source": [
    "# Trimming the outliers"
   ]
  },
  {
   "cell_type": "code",
   "execution_count": 64,
   "id": "c11a1a72",
   "metadata": {},
   "outputs": [],
   "source": [
    "newdf= newdf.loc[(newdf['annual_inc']<up_limit)&(newdf['annual_inc']>low_limit)]"
   ]
  },
  {
   "cell_type": "markdown",
   "id": "8bc39632",
   "metadata": {},
   "source": [
    "# bivariate analysis after outlier treatment"
   ]
  },
  {
   "cell_type": "code",
   "execution_count": 65,
   "id": "d44b2105",
   "metadata": {},
   "outputs": [
    {
     "data": {
      "image/png": "[encoded data removed]",
      "text/plain": [
       "<Figure size 432x288 with 1 Axes>"
      ]
     },
     "metadata": {
      "needs_background": "light"
     },
     "output_type": "display_data"
    }
   ],
   "source": [
    "sns.barplot(x = \"term\", y = \"annual_inc\", hue = \"loan_status\", data = newdf) \n",
    "plt.show()"
   ]
  },
  {
   "cell_type": "markdown",
   "id": "80733e19",
   "metadata": {},
   "source": [
    "# Binning for Annual income"
   ]
  },
  {
   "cell_type": "code",
   "execution_count": 82,
   "id": "48c3cb5b",
   "metadata": {},
   "outputs": [],
   "source": [
    "bin = [0,10000,20000,30000,40000,50000,60000]\n",
    "range =['0-10k','10k-20k','20k-30k','30k-40k','40k-50k','above50k']\n",
    "newdf['annual_inc'] = pd.cut(newdf['annual_inc'],bin, labels = range)"
   ]
  },
  {
   "cell_type": "code",
   "execution_count": 67,
   "id": "d36fcf0f",
   "metadata": {},
   "outputs": [
    {
     "data": {
      "text/plain": [
       "<AxesSubplot:xlabel='annual_inc'>"
      ]
     },
     "execution_count": 67,
     "metadata": {},
     "output_type": "execute_result"
    },
    {
     "data": {
      "image/png": "[encoded data removed]",
      "text/plain": [
       "<Figure size 432x288 with 1 Axes>"
      ]
     },
     "metadata": {
      "needs_background": "light"
     },
     "output_type": "display_data"
    }
   ],
   "source": [
    "newdf.groupby(['annual_inc']).size().plot(kind=\"bar\")"
   ]
  },
  {
   "cell_type": "code",
   "execution_count": 83,
   "id": "35c4a9b1",
   "metadata": {},
   "outputs": [
    {
     "data": {
      "image/png": "[encoded data removed]",
      "text/plain": [
       "<Figure size 432x288 with 1 Axes>"
      ]
     },
     "metadata": {
      "needs_background": "light"
     },
     "output_type": "display_data"
    }
   ],
   "source": [
    "sns.barplot(x = \"home_ownership\", y = \"annual_inc\", hue = \"loan_status\", data = newdf) \n",
    "plt.show()"
   ]
  },
  {
   "cell_type": "code",
   "execution_count": 84,
   "id": "3156dc5e",
   "metadata": {},
   "outputs": [
    {
     "data": {
      "image/png": "[encoded data removed]",
      "text/plain": [
       "<Figure size 432x288 with 1 Axes>"
      ]
     },
     "metadata": {
      "needs_background": "light"
     },
     "output_type": "display_data"
    }
   ],
   "source": [
    "sns.barplot(x = \"home_ownership\", y = \"loan_status\", data = newdf) \n",
    "plt.show()"
   ]
  },
  {
   "cell_type": "code",
   "execution_count": 70,
   "id": "b2a42558",
   "metadata": {},
   "outputs": [
    {
     "data": {
      "text/html": [
       "<div>\n",
       "<style scoped>\n",
       "    .dataframe tbody tr th:only-of-type {\n",
       "        vertical-align: middle;\n",
       "    }\n",
       "\n",
       "    .dataframe tbody tr th {\n",
       "        vertical-align: top;\n",
       "    }\n",
       "\n",
       "    .dataframe thead th {\n",
       "        text-align: right;\n",
       "    }\n",
       "</style>\n",
       "<table border=\"1\" class=\"dataframe\">\n",
       "  <thead>\n",
       "    <tr style=\"text-align: right;\">\n",
       "      <th>loan_status</th>\n",
       "      <th>Charged Off</th>\n",
       "      <th>Fully Paid</th>\n",
       "    </tr>\n",
       "    <tr>\n",
       "      <th>home_ownership</th>\n",
       "      <th></th>\n",
       "      <th></th>\n",
       "    </tr>\n",
       "  </thead>\n",
       "  <tbody>\n",
       "    <tr>\n",
       "      <th>1</th>\n",
       "      <td>0.000000</td>\n",
       "      <td>0.014048</td>\n",
       "    </tr>\n",
       "    <tr>\n",
       "      <th>2</th>\n",
       "      <td>0.079603</td>\n",
       "      <td>0.365237</td>\n",
       "    </tr>\n",
       "    <tr>\n",
       "      <th>3</th>\n",
       "      <td>2.055628</td>\n",
       "      <td>11.659487</td>\n",
       "    </tr>\n",
       "    <tr>\n",
       "      <th>4</th>\n",
       "      <td>13.176625</td>\n",
       "      <td>72.649373</td>\n",
       "    </tr>\n",
       "  </tbody>\n",
       "</table>\n",
       "</div>"
      ],
      "text/plain": [
       "loan_status     Charged Off  Fully Paid\n",
       "home_ownership                         \n",
       "1                  0.000000    0.014048\n",
       "2                  0.079603    0.365237\n",
       "3                  2.055628   11.659487\n",
       "4                 13.176625   72.649373"
      ]
     },
     "execution_count": 70,
     "metadata": {},
     "output_type": "execute_result"
    }
   ],
   "source": [
    "df_character=pd.crosstab(newdf['home_ownership'],newdf['loan_status'])\n",
    "(df_character/newdf.shape[0])*100"
   ]
  },
  {
   "cell_type": "code",
   "execution_count": 71,
   "id": "62949586",
   "metadata": {},
   "outputs": [
    {
     "data": {
      "image/png": "[encoded data removed]",
      "text/plain": [
       "<Figure size 432x288 with 1 Axes>"
      ]
     },
     "metadata": {
      "needs_background": "light"
     },
     "output_type": "display_data"
    }
   ],
   "source": [
    "newdf.plot.scatter(x=\"home_ownership\", y=\"loan_amnt\")\n",
    "plt.show()"
   ]
  },
  {
   "cell_type": "markdown",
   "id": "2faf90bd",
   "metadata": {},
   "source": [
    "### 'RENT' - 4, 'OWN' -3 , 'MORTGAGE' -2 , 'OTHER'-1 \n",
    "people staying in  mortgage houses have taken less loan amount compared to people staying in rent and own houses"
   ]
  },
  {
   "cell_type": "code",
   "execution_count": 72,
   "id": "8044fbd8",
   "metadata": {},
   "outputs": [
    {
     "data": {
      "image/png": "[encoded data removed]",
      "text/plain": [
       "<Figure size 432x288 with 2 Axes>"
      ]
     },
     "metadata": {
      "needs_background": "light"
     },
     "output_type": "display_data"
    }
   ],
   "source": [
    "ax = sns.heatmap(newdf.corr(), annot=True) "
   ]
  },
  {
   "cell_type": "code",
   "execution_count": 86,
   "id": "83c3faef",
   "metadata": {},
   "outputs": [
    {
     "data": {
      "image/png": "[encoded data removed]",
      "text/plain": [
       "<Figure size 432x288 with 1 Axes>"
      ]
     },
     "metadata": {
      "needs_background": "light"
     },
     "output_type": "display_data"
    }
   ],
   "source": [
    "sns.barplot(x = \"home_ownership\", y = \"loan_amnt\", hue = \"loan_status\", data = newdf) \n",
    "plt.show()"
   ]
  },
  {
   "cell_type": "markdown",
   "id": "81ac745a",
   "metadata": {},
   "source": [
    "# people staying in  mortgage houses are more defaulters"
   ]
  },
  {
   "cell_type": "code",
   "execution_count": null,
   "id": "58cfd102",
   "metadata": {},
   "outputs": [],
   "source": []
  }
 ],
 "metadata": {
  "kernelspec": {
   "display_name": "Python 3 (ipykernel)",
   "language": "python",
   "name": "python3"
  },
  "language_info": {
   "codemirror_mode": {
    "name": "ipython",
    "version": 3
   },
   "file_extension": ".py",
   "mimetype": "text/x-python",
   "name": "python",
   "nbconvert_exporter": "python",
   "pygments_lexer": "ipython3",
   "version": "3.9.12"
  }
 },
 "nbformat": 4,
 "nbformat_minor": 5
}
